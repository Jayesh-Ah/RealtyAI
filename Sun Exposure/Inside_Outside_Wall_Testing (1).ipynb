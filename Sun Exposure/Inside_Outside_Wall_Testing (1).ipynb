version https://git-lfs.github.com/spec/v1
oid sha256:e285688df26d056d27ecab577f1fe0e39ac5ded2a26a6d6a7b69df6e59584e07
size 2295628
